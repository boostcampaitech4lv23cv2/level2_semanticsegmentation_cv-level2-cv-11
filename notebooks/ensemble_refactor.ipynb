{
 "cells": [
  {
   "attachments": {},
   "cell_type": "markdown",
   "id": "0d6ba939",
   "metadata": {},
   "source": [
    "# Hard Voting Ensemble"
   ]
  },
  {
   "cell_type": "code",
   "execution_count": 9,
   "id": "03834885-1f32-4fac-943c-499fe2558503",
   "metadata": {},
   "outputs": [],
   "source": [
    "import pandas as pd\n",
    "import numpy as np\n",
    "from tqdm import tqdm\n",
    "np.set_printoptions(threshold=np.inf)\n",
    "\n",
    "###### ensemble csv files list ######\n",
    "files_path = [\n",
    "    '/opt/ml/soup_recipe/output.csv',\n",
    "    '/opt/ml/soup_recipe/output.csv'\n",
    "    ]\n",
    "###### ensemble csv files list ######\n",
    "\n",
    "###### 저장 위치 #######\n",
    "save_file = \"./ensemble.csv\""
   ]
  },
  {
   "cell_type": "code",
   "execution_count": null,
   "id": "ffedf4e8-c562-4e98-9c0b-014843fff4d3",
   "metadata": {},
   "outputs": [],
   "source": [
    "pandas_list = []\n",
    "predict_list = []\n",
    "for file_path in files_path:\n",
    "    pandas_list.append(pd.read_csv(file_path))\n",
    "\n",
    "pandas_stack = np.empty(shape=(1,819,256*256), dtype = np.int8)\n",
    "for pandas in tqdm(pandas_list, desc ='outer'):\n",
    "    tmp = np.empty(shape=(1,256*256), dtype = np.int8)\n",
    "    for i in tqdm(range(len(pandas)), desc = \"inner\"):\n",
    "        tmp = np.append(tmp, np.array(list(map(int, pandas['PredictionString'][i].split()))).reshape(1,256*256), axis = 0)\n",
    "    tmp = np.delete(tmp,0, axis = 0)\n",
    "    pandas_stack = np.append(pandas_stack, tmp.reshape(1,819,256*256), axis = 0)\n",
    "pandas_stack = np.delete(pandas_stack,0, axis = 0)\n",
    "print(f\" stack numpy shape (앙상블 파일 수 , 819, 65536) :{pandas_stack.shape}\")\n",
    "\n",
    "b = np.apply_along_axis(lambda x: np.bincount(x, minlength=11), axis=0, arr=pandas_stack)\n",
    "b = np.apply_along_axis(np.argmax, 0, pandas_stack)\n",
    "print(f\"최빈값 구한 shape (819, 65536): {b.shape}\")\n",
    "print()\n",
    "\n",
    "print(\"문자열 길이 = 데이터(256*256) + 공백((256*256 -1) = 131071\")\n",
    "print(f\"원본 pandas 문자열 길이: {len(pandas_list[0]['PredictionString'][0])}\")\n",
    "print(\"생성 pandas 문자열 길이:\", len(np.array2string(b[0]).replace('\\n','')[1:-1]))\n",
    "for i in tqdm(range(len(pandas_list[0]))):\n",
    "    pandas_list[0]['PredictionString'][i] = np.array2string(b[i]).replace('\\n','')[1:-1]\n",
    "    \n",
    "pandas_list[0].to_csv(save_file)"
   ]
  }
 ],
 "metadata": {
  "kernelspec": {
   "display_name": "openmmlab",
   "language": "python",
   "name": "python3"
  },
  "language_info": {
   "codemirror_mode": {
    "name": "ipython",
    "version": 3
   },
   "file_extension": ".py",
   "mimetype": "text/x-python",
   "name": "python",
   "nbconvert_exporter": "python",
   "pygments_lexer": "ipython3",
   "version": "3.8.5"
  },
  "vscode": {
   "interpreter": {
    "hash": "f970aae8c359c97046dcfc4e9c1c65f5e3f9cca2a3bef624d88d45c69053e355"
   }
  }
 },
 "nbformat": 4,
 "nbformat_minor": 5
}
