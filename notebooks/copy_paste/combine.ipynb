{
 "cells": [
  {
   "attachments": {},
   "cell_type": "markdown",
   "metadata": {},
   "source": [
    "# json 파일 합치기"
   ]
  },
  {
   "cell_type": "code",
   "execution_count": 1,
   "metadata": {},
   "outputs": [],
   "source": [
    "import json"
   ]
  },
  {
   "cell_type": "code",
   "execution_count": 2,
   "metadata": {},
   "outputs": [],
   "source": [
    "# 합칠 json file path\n",
    "json_paths = [\n",
    "    \"/opt/ml/input/data/train.json\",\n",
    "    \"/opt/ml/input/data/train_copy.json\"\n",
    "]\n",
    "\n",
    "# 만들 json file path\n",
    "create_json_path = \"/opt/ml/input/data/train_cp_all.json\""
   ]
  },
  {
   "cell_type": "code",
   "execution_count": 3,
   "metadata": {},
   "outputs": [],
   "source": [
    "json_list = []\n",
    "for json_path in json_paths:\n",
    "    with open(json_path, 'r') as f:\n",
    "        json_list.append(json.load(f))\n",
    "\n",
    "image_prefix = 0\n",
    "annotation_prefix = 0\n",
    "for idx, json_file in enumerate(json_list):\n",
    "    if idx != 0:\n",
    "        for image in json_file['images']:\n",
    "            image[\"id\"] += image_prefix\n",
    "        for annotation in json_file['annotations']:\n",
    "            annotation[\"image_id\"] += image_prefix\n",
    "            annotation[\"id\"] += annotation_prefix\n",
    "    image_prefix += len(json_file['images'])\n",
    "    annotation_prefix += len(json_file['annotations'])\n",
    "\n",
    "for idx, json_file in enumerate(json_list):\n",
    "    if idx == 0:\n",
    "        continue\n",
    "    json_list[0]['images'].extend(json_file['images'])\n",
    "    json_list[0]['annotations'].extend(json_file['annotations'])\n",
    "\n",
    "with open(create_json_path, 'w') as f:\n",
    "        json.dump(json_list[0], f, indent= \"\\t\")"
   ]
  },
  {
   "attachments": {},
   "cell_type": "markdown",
   "metadata": {},
   "source": [
    "### 확인하기"
   ]
  },
  {
   "cell_type": "code",
   "execution_count": 9,
   "metadata": {},
   "outputs": [
    {
     "name": "stdout",
     "output_type": "stream",
     "text": [
      "0번쨰 json 파일 개수: 2617\n",
      "1번쨰 json 파일 개수: 2616\n",
      "총 파일 개수: 5233\n",
      "\n",
      "새로운 json 파일 개수: 5233\n"
     ]
    }
   ],
   "source": [
    "cnt = 0\n",
    "for idx, path in enumerate(json_paths):\n",
    "    with open(path, 'r') as f:\n",
    "        tmp = json.load(f)\n",
    "        print(f\"{idx}번쨰 json 파일 개수: {len(tmp['images'])}\")\n",
    "        cnt = cnt + len(tmp['images'])\n",
    "\n",
    "with open(\"/opt/ml/input/data/train_cp_all.json\", 'r') as f:\n",
    "    tmp = json.load(f)\n",
    "    print(f\"총 파일 개수: {cnt}\")\n",
    "    print()\n",
    "    print(f\"새로운 json 파일 개수: {len(tmp['images'])}\")"
   ]
  }
 ],
 "metadata": {
  "kernelspec": {
   "display_name": "openmmlab",
   "language": "python",
   "name": "python3"
  },
  "language_info": {
   "codemirror_mode": {
    "name": "ipython",
    "version": 3
   },
   "file_extension": ".py",
   "mimetype": "text/x-python",
   "name": "python",
   "nbconvert_exporter": "python",
   "pygments_lexer": "ipython3",
   "version": "3.8.5"
  },
  "orig_nbformat": 4,
  "vscode": {
   "interpreter": {
    "hash": "f970aae8c359c97046dcfc4e9c1c65f5e3f9cca2a3bef624d88d45c69053e355"
   }
  }
 },
 "nbformat": 4,
 "nbformat_minor": 2
}
