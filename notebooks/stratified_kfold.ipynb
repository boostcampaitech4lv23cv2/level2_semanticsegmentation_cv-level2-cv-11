{
 "cells": [
  {
   "cell_type": "code",
   "execution_count": 3,
   "id": "4990270b-904c-4522-a1b6-be516d6ce29d",
   "metadata": {},
   "outputs": [],
   "source": [
    "import random\n",
    "import numpy as np\n",
    "import pandas as pd\n",
    "from collections import Counter, defaultdict\n",
    "import json\n",
    "from sklearn.model_selection import StratifiedGroupKFold\n",
    "from copy import deepcopy"
   ]
  },
  {
   "cell_type": "code",
   "execution_count": 5,
   "id": "4b081394-7e3b-4ddc-a3f0-f6aa8576cc13",
   "metadata": {},
   "outputs": [],
   "source": [
    "\"\"\"\n",
    "idx를 받아 train/valid split annotation json 생성하는 함수\n",
    "\n",
    "idx: annotations json 리스트에서의 index\n",
    "id : Image/Annotation 식별 id\n",
    "\"\"\"\n",
    "\n",
    "def generate_split(train_idx, val_idx):\n",
    "    train_data = deepcopy(data)\n",
    "    val_data = deepcopy(data)\n",
    "    \n",
    "    df_imgs = pd.DataFrame(data['images'])\n",
    "    df_annos = pd.DataFrame(data['annotations'])\n",
    "    \n",
    "    train_img_ids = df_annos.loc[train_idx]['image_id'].unique()\n",
    "    val_img_ids = df_annos.loc[val_idx]['image_id'].unique()\n",
    "\n",
    "    train_data['images'] = df_imgs[df_imgs['id'].isin(train_img_ids)].to_dict('records')\n",
    "    train_data['annotations'] = df_annos.iloc[train_idx].to_dict('records')\n",
    "    val_data['images'] = df_imgs[df_imgs['id'].isin(val_img_ids)].to_dict('records')\n",
    "    val_data['annotations'] = df_annos.iloc[val_idx].to_dict('records')\n",
    "    \n",
    "    return train_data, val_data"
   ]
  },
  {
   "cell_type": "code",
   "execution_count": null,
   "id": "9dec7981-9ce5-4afe-a26d-fe5d29d0487c",
   "metadata": {},
   "outputs": [
    {
     "name": "stdout",
     "output_type": "stream",
     "text": [
      "전체 Box 개수: 26240\n",
      "Fold 0 - 21199, 5041\n",
      "Fold 1 - 20976, 5264\n",
      "Fold 2 - 20887, 5353\n",
      "Fold 3 - 21056, 5184\n",
      "Fold 4 - 20842, 5398\n"
     ]
    }
   ],
   "source": [
    "annotation = '/opt/ml/input/data/train_all.json'\n",
    "\n",
    "with open(annotation) as f: data = json.load(f)\n",
    "\n",
    "var = [(ann['image_id'], ann['category_id']) for ann in data['annotations']]\n",
    "X = np.ones((len(data['annotations']),1)) # X : 더미 값.\n",
    "y = np.array([v[1] for v in var])         # y : 클래스\n",
    "groups = np.array([v[0] for v in var])    # groups : 그룹 (이미지 파일)\n",
    "\n",
    "cv = StratifiedGroupKFold(n_splits=5, shuffle=True, random_state=411)\n",
    "\n",
    "print('전체 Box 개수:', len(X))\n",
    "# train_idx, val_idx 는 annotation의 idx임. (!= id)\n",
    "for i, (train_idx, val_idx) in enumerate(cv.split(X, y, groups)):\n",
    "    print(f'Fold {i} - {len(train_idx)}, {len(val_idx)}')\n",
    "    train_data, val_data = generate_split(train_idx, val_idx)\n",
    "\n",
    "    with open(f'/opt/ml/input/data/train-kfold-{i}.json', 'w') as f:\n",
    "        json.dump(train_data, f, indent=2)\n",
    "\n",
    "    with open(f'/opt/ml/input/data/val-kfold-{i}.json', 'w') as f:\n",
    "        json.dump(val_data, f, indent=2)"
   ]
  },
  {
   "cell_type": "code",
   "execution_count": null,
   "id": "16051d84-9a86-431f-af87-7d2dcfec46f3",
   "metadata": {},
   "outputs": [],
   "source": [
    "# check distribution\n",
    "\n",
    "def get_distribution(y):\n",
    "    y_distr = Counter(y)\n",
    "    y_vals_sum = sum(y_distr.values())\n",
    "\n",
    "    return [f'{y_distr[i]/y_vals_sum:.2%}' for i in range(np.max(y) +1)]\n",
    "\n",
    "distrs = [get_distribution(y)]\n",
    "index = ['training set']\n",
    "\n",
    "for fold_ind, (train_idx, val_idx) in enumerate(cv.split(X,y, groups)):\n",
    "    train_y, val_y = y[train_idx], y[val_idx]\n",
    "    # train_gr, val_gr = groups[train_idx], groups[val_idx]\n",
    "\n",
    "    # assert len(set(train_gr) & set(val_gr)) == 0\n",
    "    distrs.append(get_distribution(train_y))\n",
    "\n",
    "    distrs.append(get_distribution(val_y))\n",
    "    index.append(f'train - fold{fold_ind}')\n",
    "    index.append(f'val - fold{fold_ind}')\n",
    "\n",
    "categories = [d['name'] for d in data['categories']]\n",
    "pd.DataFrame(distrs, index=index, columns = [categories[i] for i in range(np.max(y) + 1)])"
   ]
  }
 ],
 "metadata": {
  "kernelspec": {
   "display_name": "base",
   "language": "python",
   "name": "base"
  },
  "language_info": {
   "codemirror_mode": {
    "name": "ipython",
    "version": 3
   },
   "file_extension": ".py",
   "mimetype": "text/x-python",
   "name": "python",
   "nbconvert_exporter": "python",
   "pygments_lexer": "ipython3",
   "version": "3.8.5"
  }
 },
 "nbformat": 4,
 "nbformat_minor": 5
}
